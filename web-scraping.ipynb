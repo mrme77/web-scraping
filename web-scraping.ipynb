{
 "cells": [
  {
   "cell_type": "markdown",
   "metadata": {},
   "source": [
    "# Web Mining and Applied NLP (44-620)\n",
    "\n",
    "## Web Scraping and NLP with Requests, BeautifulSoup, and spaCy\n",
    "\n",
    "### Student Name: Pasquale Salomone\n",
    "\n",
    "Perform the tasks described in the Markdown cells below.  When you have completed the assignment make sure your code cells have all been run (and have output beneath them) and ensure you have committed and pushed ALL of your changes to your assignment repository.\n",
    "\n",
    "Every question that requires you to write code will have a code cell underneath it; you may either write your entire solution in that cell or write it in a python file (`.py`), then import and run the appropriate code to answer the question."
   ]
  },
  {
   "cell_type": "markdown",
   "metadata": {},
   "source": [
    "#### Question 1\n",
    "Write code that extracts the article html from https://web.archive.org/web/20210327165005/https://hackaday.com/2021/03/22/how-laser-headlights-work/ and dumps it to a .pkl (or other appropriate file)"
   ]
  },
  {
   "cell_type": "code",
   "execution_count": 18,
   "metadata": {},
   "outputs": [
    {
     "name": "stdout",
     "output_type": "stream",
     "text": [
      "Package                            Version\n",
      "---------------------------------- --------------------\n",
      "account                            0.1.0\n",
      "aiohttp                            3.8.1\n",
      "aiosignal                          1.2.0\n",
      "alabaster                          0.7.12\n",
      "alembic                            1.8.0\n",
      "amqp                               2.6.1\n",
      "anaconda-client                    1.11.2\n",
      "anaconda-navigator                 2.1.4\n",
      "anaconda-project                   0.11.1\n",
      "anyio                              3.5.0\n",
      "appdirs                            1.4.4\n",
      "applaunchservices                  0.2.1\n",
      "appnope                            0.1.2\n",
      "appscript                          1.1.2\n",
      "argh                               0.26.2\n",
      "argon2-cffi                        21.3.0\n",
      "argon2-cffi-bindings               21.2.0\n",
      "asn1crypto                         1.5.1\n",
      "astroid                            2.14.2\n",
      "astropy                            5.1\n",
      "asttokens                          2.0.5\n",
      "async-timeout                      4.0.2\n",
      "atomicwrites                       1.4.0\n",
      "attrs                              22.1.0\n",
      "autopep8                           1.5.6\n",
      "Babel                              2.11.0\n",
      "backcall                           0.2.0\n",
      "backports.functools-lru-cache      1.6.4\n",
      "backports.shutil-get-terminal-size 1.0.0\n",
      "backports.tempfile                 1.0\n",
      "backports.weakref                  1.0.post1\n",
      "bcrypt                             3.2.2\n",
      "beautifulsoup4                     4.12.2\n",
      "billiard                           3.6.4.0\n",
      "bitarray                           2.5.1\n",
      "bkcharts                           0.2\n",
      "black                              0.0\n",
      "bleach                             4.1.0\n",
      "blis                               0.7.9\n",
      "bokeh                              2.4.2\n",
      "boltons                            23.0.0\n",
      "boto                               2.49.0\n",
      "Bottleneck                         1.3.5\n",
      "branca                             0.4.2\n",
      "Brotli                             1.0.9\n",
      "brotlipy                           0.7.0\n",
      "cachetools                         5.2.0\n",
      "catalogue                          2.0.8\n",
      "celery                             4.4.7\n",
      "certifi                            2022.12.7\n",
      "cffi                               1.15.1\n",
      "chardet                            4.0.0\n",
      "charset-normalizer                 2.0.4\n",
      "chromedriver-py                    99.0.4844.35\n",
      "ci-info                            0.3.0\n",
      "click                              8.1.3\n",
      "cloudpickle                        2.0.0\n",
      "clyent                             1.2.2\n",
      "cmdstanpy                          1.1.0\n",
      "colorama                           0.4.6\n",
      "colour                             0.1.5\n",
      "comm                               0.1.2\n",
      "conda                              23.3.1\n",
      "conda-build                        3.21.4\n",
      "conda-content-trust                0.1.3\n",
      "conda-pack                         0.6.0\n",
      "conda-package-handling             2.0.2\n",
      "conda_package_streaming            0.7.0\n",
      "conda-repo-cli                     1.0.41\n",
      "conda-token                        0.4.0\n",
      "conda-verify                       3.4.2\n",
      "confection                         0.1.0\n",
      "configobj                          5.0.8\n",
      "configparser                       5.3.0\n",
      "contextlib2                        21.6.0\n",
      "contourpy                          1.0.5\n",
      "crypto                             1.4.1\n",
      "cryptography                       39.0.1\n",
      "cssselect                          1.1.0\n",
      "cssutils                           2.4.2\n",
      "cycler                             0.11.0\n",
      "cymem                              2.0.7\n",
      "Cython                             0.29.33\n",
      "cytoolz                            0.12.0\n",
      "daal4py                            2021.6.0\n",
      "dash                               1.19.0\n",
      "dash-core-components               1.3.1\n",
      "dash-html-components               1.0.1\n",
      "dash-renderer                      1.1.2\n",
      "dash-table                         4.4.1\n",
      "dask                               2023.3.2\n",
      "databricks-cli                     0.17.7\n",
      "dataframe-image                    0.1.1\n",
      "dataprep                           0.4.3\n",
      "debugpy                            1.5.1\n",
      "decorator                          5.1.1\n",
      "defusedxml                         0.7.1\n",
      "diff-match-patch                   20200713\n",
      "diffuser                           0.0.1\n",
      "diffusers                          0.10.2\n",
      "dill                               0.3.6\n",
      "distributed                        2023.3.2\n",
      "dnspython                          2.2.1\n",
      "docker                             6.1.3\n",
      "docutils                           0.18.1\n",
      "docx                               0.2.4\n",
      "dodgy                              0.2.1\n",
      "download                           0.3.5\n",
      "dtreeviz                           1.3.5\n",
      "ecdsa                              0.17.0\n",
      "email-validator                    1.2.1\n",
      "emails                             0.5.15\n",
      "en-core-web-lg                     3.6.0\n",
      "en-core-web-sm                     3.6.0\n",
      "entrypoints                        0.4\n",
      "et-xmlfile                         1.1.0\n",
      "etelemetry                         0.3.0\n",
      "executing                          0.8.3\n",
      "Faker                              18.10.1\n",
      "fastapi                            0.70.1\n",
      "fastcache                          1.1.0\n",
      "fastjsonschema                     2.16.2\n",
      "filelock                           3.9.0\n",
      "findspark                          2.0.1\n",
      "fitz                               0.0.1.dev2\n",
      "flake8                             3.9.0\n",
      "flake8-polyfill                    1.0.2\n",
      "Flask                              2.2.3\n",
      "Flask-Compress                     1.13\n",
      "Flask-Cors                         3.0.10\n",
      "flit_core                          3.8.0\n",
      "folium                             0.12.1.post1\n",
      "fonttools                          4.25.0\n",
      "frozenlist                         1.3.0\n",
      "fsspec                             2023.3.0\n",
      "future                             0.18.3\n",
      "gevent                             22.10.2\n",
      "gitdb                              4.0.10\n",
      "GitPython                          3.1.31\n",
      "glob2                              0.7\n",
      "gmpy2                              2.1.2\n",
      "graphviz                           0.19.1\n",
      "greenlet                           2.0.1\n",
      "gunicorn                           20.1.0\n",
      "h11                                0.9.0\n",
      "h5py                               3.7.0\n",
      "HeapDict                           1.0.1\n",
      "html5lib                           1.1\n",
      "httplib2                           0.22.0\n",
      "httptools                          0.1.2\n",
      "huggingface-hub                    0.11.1\n",
      "idna                               3.4\n",
      "imagecodecs                        2021.8.26\n",
      "imageio                            2.26.0\n",
      "imagesize                          1.4.1\n",
      "importlib-metadata                 6.0.0\n",
      "importlib-resources                5.2.0\n",
      "inflect                            5.6.0\n",
      "iniconfig                          1.1.1\n",
      "install                            1.3.5\n",
      "intervaltree                       3.1.0\n",
      "ipykernel                          6.19.2\n",
      "ipython                            8.12.0\n",
      "ipython-genutils                   0.2.0\n",
      "ipywidgets                         8.0.4\n",
      "isodate                            0.6.1\n",
      "isort                              5.9.3\n",
      "itsdangerous                       2.0.1\n",
      "jaraco.classes                     3.2.1\n",
      "jdcal                              1.4.1\n",
      "jedi                               0.17.2\n",
      "Jinja2                             3.1.2\n",
      "joblib                             1.1.1\n",
      "json5                              0.9.6\n",
      "jsonpatch                          1.32\n",
      "jsonpath-ng                        1.5.3\n",
      "jsonpointer                        2.1\n",
      "jsonschema                         4.17.3\n",
      "jupyter                            1.0.0\n",
      "jupyter_client                     8.1.0\n",
      "jupyter-console                    6.6.3\n",
      "jupyter_core                       5.3.0\n",
      "jupyter-server                     1.23.4\n",
      "jupyterlab                         3.3.2\n",
      "jupyterlab-pygments                0.1.2\n",
      "jupyterlab_server                  2.22.0\n",
      "jupyterlab-widgets                 3.0.5\n",
      "jupyterthemes                      0.20.0\n",
      "keyring                            23.13.1\n",
      "kiwisolver                         1.4.4\n",
      "kombu                              4.6.11\n",
      "langcodes                          3.3.0\n",
      "lazy-object-proxy                  1.6.0\n",
      "lesscpy                            0.15.1\n",
      "libarchive-c                       2.9\n",
      "llvmlite                           0.39.1\n",
      "locket                             1.0.0\n",
      "looseversion                       1.1.2\n",
      "lxml                               4.6.3\n",
      "lyricsgenius                       3.0.1\n",
      "lz4                                3.1.3\n",
      "Mako                               1.2.0\n",
      "Markdown                           3.4.3\n",
      "MarkupSafe                         2.1.1\n",
      "matplotlib                         3.7.1\n",
      "matplotlib-inline                  0.1.6\n",
      "mccabe                             0.6.1\n",
      "Metaphone                          0.6\n",
      "missingno                          0.5.0\n",
      "mistune                            0.8.4\n",
      "mkl-fft                            1.3.1\n",
      "mkl-random                         1.2.2\n",
      "mkl-service                        2.4.0\n",
      "mlflow                             2.4.1\n",
      "mock                               4.0.3\n",
      "more-itertools                     8.12.0\n",
      "mpmath                             1.2.1\n",
      "msgpack                            1.0.3\n",
      "multidict                          6.0.2\n",
      "multipledispatch                   0.6.0\n",
      "munkres                            1.1.4\n",
      "murmurhash                         1.0.9\n",
      "mypy-extensions                    0.4.3\n",
      "Naked                              0.1.32\n",
      "navigator-updater                  0.2.1\n",
      "nbclassic                          0.5.5\n",
      "nbclient                           0.5.13\n",
      "nbconvert                          6.5.4\n",
      "nbformat                           5.7.0\n",
      "nest-asyncio                       1.5.6\n",
      "networkx                           2.8.4\n",
      "nibabel                            5.1.0\n",
      "nipype                             1.8.5\n",
      "nltk                               3.7\n",
      "nose                               1.3.7\n",
      "notebook                           6.5.4\n",
      "notebook_shim                      0.2.2\n",
      "numba                              0.56.4\n",
      "numexpr                            2.8.4\n",
      "numpy                              1.23.5\n",
      "numpydoc                           1.5.0\n",
      "oauthlib                           3.2.2\n",
      "olefile                            0.46\n",
      "openai                             0.27.4\n",
      "openpyxl                           3.0.10\n",
      "packaging                          23.0\n",
      "pandas                             1.5.3\n",
      "pandocfilters                      1.5.0\n",
      "parso                              0.7.0\n",
      "partd                              1.2.0\n",
      "passlib                            1.7.4\n",
      "path                               16.2.0\n",
      "pathlib                            1.0.1\n",
      "pathlib2                           2.3.6\n",
      "pathspec                           0.10.3\n",
      "pathtools                          0.1.2\n",
      "pathy                              0.10.2\n",
      "patsy                              0.5.3\n",
      "pdf2image                          1.16.0\n",
      "pep8                               1.7.1\n",
      "pep8-naming                        0.10.0\n",
      "pexpect                            4.8.0\n",
      "pgpasslib                          1.1.0\n",
      "pickleshare                        0.7.5\n",
      "Pillow                             9.4.0\n",
      "pip                                23.0.1\n",
      "pkginfo                            1.9.6\n",
      "pkgutil_resolve_name               1.3.10\n",
      "platformdirs                       2.5.2\n",
      "plotly                             5.9.0\n",
      "pluggy                             0.13.1\n",
      "ply                                3.11\n",
      "pooch                              1.4.0\n",
      "premailer                          3.10.0\n",
      "preshed                            3.0.8\n",
      "prometheus-client                  0.14.1\n",
      "prompt-toolkit                     3.0.36\n",
      "prospector                         1.7.7\n",
      "protobuf                           4.23.3\n",
      "prov                               2.0.0\n",
      "psutil                             5.9.0\n",
      "psycopg2                           2.9.3\n",
      "psycopg2-binary                    2.9.3\n",
      "ptyprocess                         0.7.0\n",
      "pure-eval                          0.2.2\n",
      "py                                 1.11.0\n",
      "py4j                               0.10.9.7\n",
      "pyarrow                            12.0.1\n",
      "pyasn1                             0.4.8\n",
      "pycodestyle                        2.7.0\n",
      "pycosat                            0.6.4\n",
      "pycparser                          2.21\n",
      "pycrypto                           2.6.1\n",
      "pycurl                             7.45.2\n",
      "pydantic                           1.9.1\n",
      "pydocstyle                         6.3.0\n",
      "pydot                              1.4.2\n",
      "pyee                               8.2.2\n",
      "pyerfa                             2.0.0\n",
      "pyflakes                           2.3.1\n",
      "pygame                             2.4.0\n",
      "Pygments                           2.11.2\n",
      "PyJWT                              2.4.0\n",
      "pylint                             2.16.2\n",
      "pylint-celery                      0.3\n",
      "pylint-django                      2.5.3\n",
      "pylint-flask                       0.6\n",
      "pylint-plugin-utils                0.7\n",
      "pyls-black                         0.4.6\n",
      "pyls-spyder                        0.3.2\n",
      "PyMuPDF                            1.21.1\n",
      "pyodbc                             4.0.34\n",
      "pyOpenSSL                          23.0.0\n",
      "pyparsing                          3.0.9\n",
      "PyPDF2                             3.0.1\n",
      "pypng                              0.20220715.0\n",
      "pyppeteer                          1.0.2\n",
      "PyQt5                              5.12.3\n",
      "PyQt5_sip                          4.19.18\n",
      "PyQtChart                          5.12\n",
      "PyQtWebEngine                      5.12.1\n",
      "pyrsistent                         0.18.0\n",
      "PySocks                            1.7.1\n",
      "pyspark                            3.4.0\n",
      "pystache                           0.6.0\n",
      "pytest                             7.1.2\n",
      "python-crfsuite                    0.9.8\n",
      "python-dateutil                    2.8.2\n",
      "python-docx                        0.8.11\n",
      "python-jose                        3.3.0\n",
      "python-jsonrpc-server              0.4.0\n",
      "python-language-server             0.36.2\n",
      "python-Levenshtein                 0.12.2\n",
      "python-multipart                   0.0.5\n",
      "python-stdnum                      1.17\n",
      "pytoolconfig                       1.2.5\n",
      "pytz                               2022.7\n",
      "PyWavelets                         1.4.1\n",
      "pyxnat                             1.5\n",
      "PyYAML                             6.0\n",
      "pyzmq                              23.2.0\n",
      "QDarkStyle                         2.8.1\n",
      "qrcode                             7.4.2\n",
      "QtAwesome                          1.2.2\n",
      "qtconsole                          5.4.2\n",
      "QtPy                               2.2.0\n",
      "querystring-parser                 1.2.4\n",
      "raven                              6.10.0\n",
      "rdflib                             6.3.2\n",
      "regex                              2022.7.9\n",
      "requests                           2.28.1\n",
      "requests-toolbelt                  0.9.1\n",
      "requirements-detector              0.7\n",
      "rope                               1.7.0\n",
      "rsa                                4.8\n",
      "Rtree                              1.0.1\n",
      "ruamel.yaml                        0.17.21\n",
      "ruamel.yaml.clib                   0.2.6\n",
      "ruamel-yaml-conda                  0.17.21\n",
      "scikit-image                       0.19.3\n",
      "scikit-learn                       1.0.2\n",
      "scikit-learn-intelex               2021.20221004.121952\n",
      "scipy                              1.10.0\n",
      "seaborn                            0.12.2\n",
      "Send2Trash                         1.8.0\n",
      "setoptconf-tmp                     0.3.1\n",
      "setuptools                         66.0.0\n",
      "shellescape                        3.8.1\n",
      "simplegeneric                      0.8.1\n",
      "simplejson                         3.18.4\n",
      "singledispatch                     3.7.0\n",
      "sip                                6.6.2\n",
      "six                                1.16.0\n",
      "smart-open                         6.3.0\n",
      "smmap                              5.0.0\n",
      "sniffio                            1.2.0\n",
      "snowballstemmer                    2.2.0\n",
      "sortedcollections                  2.1.0\n",
      "sortedcontainers                   2.4.0\n",
      "soupsieve                          2.4\n",
      "spacy                              3.6.0\n",
      "spacy-legacy                       3.0.12\n",
      "spacy-loggers                      1.0.4\n",
      "spacytextblob                      4.0.0\n",
      "Sphinx                             5.0.2\n",
      "sphinxcontrib-applehelp            1.0.2\n",
      "sphinxcontrib-devhelp              1.0.2\n",
      "sphinxcontrib-htmlhelp             2.0.0\n",
      "sphinxcontrib-jsmath               1.0.1\n",
      "sphinxcontrib-qthelp               1.0.3\n",
      "sphinxcontrib-serializinghtml      1.1.5\n",
      "sphinxcontrib-websupport           1.2.4\n",
      "spyder                             4.2.5\n",
      "spyder-kernels                     1.10.2\n",
      "SQLAlchemy                         1.4.39\n",
      "sqlparse                           0.4.4\n",
      "srsly                              2.4.6\n",
      "stack-data                         0.2.0\n",
      "starlette                          0.16.0\n",
      "statsmodels                        0.13.5\n",
      "sympy                              1.11.1\n",
      "tables                             3.7.0\n",
      "tabulate                           0.9.0\n",
      "tblib                              1.7.0\n",
      "tenacity                           8.0.1\n",
      "terminado                          0.17.1\n",
      "testpath                           0.6.0\n",
      "textblob                           0.15.3\n",
      "textdistance                       4.2.1\n",
      "thinc                              8.1.10\n",
      "threadpoolctl                      2.2.0\n",
      "three-merge                        0.1.1\n",
      "tifffile                           2021.7.2\n",
      "tinycss2                           1.2.1\n",
      "tokenizers                         0.13.2\n",
      "toml                               0.10.2\n",
      "tomli                              2.0.1\n",
      "tomlkit                            0.11.1\n",
      "toolz                              0.12.0\n",
      "torch                              1.13.0\n",
      "tornado                            6.2\n",
      "tqdm                               4.65.0\n",
      "traitlets                          5.7.1\n",
      "traits                             6.3.2\n",
      "transformers                       4.25.1\n",
      "typer                              0.9.0\n",
      "typing_extensions                  4.4.0\n",
      "ujson                              5.4.0\n",
      "unicodecsv                         0.14.1\n",
      "urllib3                            1.26.15\n",
      "uvicorn                            0.11.8\n",
      "uvloop                             0.16.0\n",
      "varname                            0.8.3\n",
      "vine                               1.3.0\n",
      "wasabi                             1.1.2\n",
      "watchdog                           1.0.2\n",
      "wcwidth                            0.2.5\n",
      "webencodings                       0.5.1\n",
      "websocket-client                   0.58.0\n",
      "websockets                         8.1\n",
      "Werkzeug                           2.2.3\n",
      "wget                               3.2\n",
      "wheel                              0.38.4\n",
      "widgetsnbextension                 4.0.5\n",
      "wordcloud                          1.8.1\n",
      "wrapt                              1.14.1\n",
      "wurlitzer                          3.0.2\n",
      "xlrd                               2.0.1\n",
      "XlsxWriter                         3.0.3\n",
      "xlwings                            0.29.1\n",
      "xlwt                               1.3.0\n",
      "yapf                               0.31.0\n",
      "yarl                               1.7.2\n",
      "zict                               2.1.0\n",
      "zipp                               3.11.0\n",
      "zope.event                         4.5.0\n",
      "zope.interface                     5.4.0\n",
      "zstandard                          0.19.0\n",
      "All prereqs installed.\n"
     ]
    }
   ],
   "source": [
    "# Create and activate a Python virtual environment. \n",
    "# Before starting the project, try all these imports FIRST\n",
    "# Address any errors you get running this code cell \n",
    "# by installing the necessary packages into your active Python environment.\n",
    "# Try to resolve issues using your materials and the web.\n",
    "# If that doesn't work, ask for help in the discussion forums.\n",
    "# You can't complete the exercises until you import these - start early! \n",
    "# We also import pickle and Counter (included in the Python Standard Library).\n",
    "\n",
    "from collections import Counter\n",
    "import pickle\n",
    "import requests\n",
    "import spacy\n",
    "from bs4 import BeautifulSoup\n",
    "import matplotlib.pyplot as plt\n",
    "\n",
    "!pip list\n",
    "\n",
    "print('All prereqs installed.')"
   ]
  },
  {
   "cell_type": "code",
   "execution_count": 1,
   "metadata": {},
   "outputs": [
    {
     "name": "stdout",
     "output_type": "stream",
     "text": [
      "Article HTML saved to file\n"
     ]
    }
   ],
   "source": [
    "import requests,pickle,io,re,spacy\n",
    "from bs4 import BeautifulSoup\n",
    "from contextlib import redirect_stdout\n",
    "from spacytextblob.spacytextblob import SpacyTextBlob\n",
    "from spacy.lang.en.stop_words import STOP_WORDS\n",
    "from collections import Counter\n",
    "import matplotlib.pyplot as plt\n",
    "import numpy as np\n",
    "\n",
    "url = \"https://web.archive.org/web/20210327165005/https://hackaday.com/2021/03/22/how-laser-headlights-work/\"\n",
    "\n",
    "response = requests.get(url)\n",
    "\n",
    "# Check if the request was successful\n",
    "if response.status_code == 200:\n",
    "    html_content = response.text\n",
    "    soup = BeautifulSoup(html_content, \"html.parser\")\n",
    "    article = soup.find(\"article\")\n",
    "\n",
    "    if article:\n",
    "        with open(\"article.pkl\", \"wb\") as file:\n",
    "            pickle.dump(str(article), file)\n",
    "            print(\"Article HTML saved to file\")\n",
    "    else:\n",
    "        print(\"Article not found\")\n",
    "else:\n",
    "    print(\"Webpage Error\")\n"
   ]
  },
  {
   "cell_type": "markdown",
   "metadata": {},
   "source": [
    "#### Question 2\n",
    "Read in your article's html source from the file you created in question 1 and print it's text (use `.get_text()`)"
   ]
  },
  {
   "cell_type": "code",
   "execution_count": 2,
   "metadata": {},
   "outputs": [
    {
     "name": "stdout",
     "output_type": "stream",
     "text": [
      "How Laser Headlights Work\n",
      "                130 Comments            \n",
      "by:\n",
      "Lewin Day\n",
      "March 22, 2021\n",
      "When we think about the onward march of automotive technology, headlights aren’t usually the first thing that come to mind. Engines, fuel efficiency, and the switch to electric power are all more front of mind. However, that doesn’t mean there aren’t thousands of engineers around the world working to improve the state of the art in automotive lighting day in, day out.\n",
      "Sealed beam headlights gave way to more modern designs once regulations loosened up, while bulbs moved from simple halogens to xenon HIDs and, more recently, LEDs. Now, a new technology is on the scene, with lasers!\n",
      "Laser Headlights?!\n",
      "BWM’s prototype laser headlight assemblies undergoing testing.\n",
      "The first image brought to mind by the phrase “laser headlights” is that of laser beams firing out the front of an automobile. Obviously, coherent beams of monochromatic light would make for poor illumination outside of a very specific spot quite some distance away. Thankfully for our eyes, laser headlights don’t work in this way at all.\n",
      "Instead, laser headlights consist of one or more solid state laser diodes mounted inside the headlight. These blue lasers are fired at a yellow phosphor, similar to that used in white LEDs. This produces a powerful, vibrant white light that can then be bounced off reflectors and out of the headlights towards the road. Laser headlights built in this way have several benefits. They’re more energy efficient than LEDs that put out the same amount of light, while also being more space efficient, too.\n",
      "BWM’s futuristic i8 was one of the first vehicles to ship with laser headlight technology.\n",
      "Laser headlights are still a nascent technology, thus far only appearing in a few BMW, Audi, and other select vehicles. BMW’s technology was developed in partnership with lighting experts OSRAM. In practice, a regular LED low-beam lamp is used, with the laser used to create an incredibly bright and focused spot, used for high-beams. This can provide illumination out to 600 meters ahead of the vehicle, double that of conventional LED high beams. The lights use indium gallium nitride diode lasers that were originally used in projectors, with power levels above 1 watt. One of the challenges in implementing such technology in an automotive environment is the need for it to operate at temperature extremes. While research lasers and laser pointers may primarily be used at typical room temperatures, automotive headlights must be able to withstand everything from 40 degrees below zero up to 50 degrees C. Thankfully, the laser’s high efficiency means it doesn’t have huge heat output of its own to further complicate things. Other engineering challenges involve tailoring the optics package for the rough-and-tumble, high vibration environment found in the automotive application. It’s also important to ensure, as with any such device, that the end user can’t be exposed to harmful laser radiation in the event of accident or malfunction.\n",
      "Tearing Down the Laser Headlight\n",
      "A marketing image showing the construction of an aftermarket LED/laser headlight. We’d take the laser power with a grain of salt — it’s difficult to imagine a 10 W laser shining directly on some small LEDs without melting a hole through the board in short order.\n",
      "An aftermarket has sprung up too, with delightfully innovative designs. Combined laser/LED headlights are readily available on Alibaba, designed as a drop in replacement for projector lamps on existing vehicles. These often use an LED low-beam, and a combined LED/laser high beam, where the laser diode shoots directly at the LED phosphor to excite it further, rather than using its own. These units often also come with fan cooling to keep the laser and LEDs below their maximum operational temperature. Such developments are exciting, though it’s important to be wary of the performance of unknown aftermarket headlights. Many aftermarket LED headlight “upgrades” fail to pass muster when it comes to real-world performance, and there’s no reason to believe hybrid LED/laser designs will be any different. We’d love to pass a selection of these parts through a full IIHS test protocol, but that’s sadly beyond the scope (and budget!) of this article.\n",
      "However, [mikeselectricstuff] has happened to lay his hands on both the BMW and aftermarket parts, tearing them all down in his workshop to see what makes them tick. The differences are multitude when laid bare on the bench. The AliExpress part is relatively simple, wired up no differently from a regular headlight. Interestingly, however, the laser high-beam circuit runs all the time in these parts. To prevent blinding other road users, a shutter is kept in place to block the light, which is moved out of the way with a solenoid when the driver turns on the high beam switch.\n",
      "Where the aftermarket part is a little out of left field, the BMW design is another thing entirely. The cutting-edge headlights are hooked up with multiple connectors and over 30 conductors, with much of the driver electronics living in an external controller. Much of this is to drive the various LEDs and stepper motors for slewing the headlights when steering. However, the laser assembly brings its own complexities. Twin light sensors are built inside to monitor the laser beam, and a special metal blocking arm sits directly in front of the diode, presumably to stop the laser light leaving the headlight in the event the phosphor coating burns through. It’s truly wild to get a look inside a modern luxury car’s headlight and see just how far we’ve come from the old days of simple sealed beams.\n",
      "Cost Versus Performance\n",
      "Despite the efficiency gains available, the technology remains expensive. Powerful laser diodes don’t come cheap, after all. However, as the technology trickles down to lower-end models, it’s likely that we could see economies of scale change that for the better. Indeed, if national authorities begin to demand higher performance headlights as standard, we could see laser headlights become the norm, rather than an expensive luxury. The technology could naturally be applied to home and commercial lighting, too — though we suspect the potential gains are limited enough that LED lighting will remain the norm for some time to come.\n",
      "The high light output of laser headlights in a compact package allows engineers greater freedom when designing the front-end of a car.\n",
      "As it currently stands, much of the appeal of the new technology is about the packaging benefits, which allow automotive designers greater freedom around the headlight area. Such concerns are less of a factor when it comes to light fittings in the home or office, or indeed, on lower-end automobiles. Regardless, it’s an exciting new application for lasers and one we’ll be sure to see more of in the future.\n",
      "Posted in car hacks, Engineering, Featured, Laser Hacks, SliderTagged laser, laser headlight, laser headlights, light \n"
     ]
    }
   ],
   "source": [
    "# Read the article HTML from the file\n",
    "with open(\"article.pkl\", \"rb\") as file:\n",
    "    html_content = pickle.load(file)\n",
    "\n",
    "soup = BeautifulSoup(html_content, \"html.parser\")\n",
    "text = soup.get_text()\n",
    "# removing empty lines for redability purposes\n",
    "text_without_empty_lines = \"\\n\".join(line for line in text.split(\"\\n\") if line.strip())\n",
    "\n",
    "print(text_without_empty_lines)"
   ]
  },
  {
   "cell_type": "markdown",
   "metadata": {},
   "source": [
    "#### Question 3\n",
    "Load the article text into a trained `spaCy` pipeline, and determine the 5 most frequent tokens (converted to lower case).  Print the common tokens with an appropriate label.  Additionally, print the tokens their frequencies (with appropriate labels). Make sure to remove things we don't care about (punctuation, stopwords, whitespace)."
   ]
  },
  {
   "cell_type": "code",
   "execution_count": 3,
   "metadata": {},
   "outputs": [
    {
     "name": "stdout",
     "output_type": "stream",
     "text": [
      "('laser', 35)\n",
      "('headlights', 19)\n",
      "('headlight', 11)\n",
      "('technology', 10)\n",
      "('led', 10)\n"
     ]
    }
   ],
   "source": [
    "# Load the spaCy model\n",
    "nlp = spacy.load('en_core_web_lg')\n",
    "\n",
    "# Process the article text\n",
    "doc = nlp(text_without_empty_lines)\n",
    "    \n",
    "tokens = [token.text.lower() for token in doc if not token.is_punct and not token.is_space and not token.is_stop]\n",
    "token_counter = Counter(tokens)\n",
    "most_common_tokens = token_counter.most_common(5)\n",
    "for item in most_common_tokens:\n",
    "    print(item)\n",
    "\n"
   ]
  },
  {
   "cell_type": "markdown",
   "metadata": {},
   "source": [
    "#### Question 4\n",
    "Load the article text into a trained `spaCy` pipeline, and determine the 5 most frequent lemmas (converted to lower case).  Print the common lemmas with an appropriate label.  Additionally, print the lemmas with their frequencies (with appropriate labels). Make sure to remove things we don't care about (punctuation, stopwords, whitespace)."
   ]
  },
  {
   "cell_type": "code",
   "execution_count": 4,
   "metadata": {},
   "outputs": [
    {
     "name": "stdout",
     "output_type": "stream",
     "text": [
      "('laser', 40)\n",
      "('headlight', 28)\n",
      "('led', 16)\n",
      "('beam', 12)\n",
      "('technology', 10)\n"
     ]
    }
   ],
   "source": [
    "lemmas = [token.lemma_.lower() for token in doc if not token.is_punct and not token.is_space and not token.is_stop]\n",
    "lemma_counter_obj = Counter(lemmas)\n",
    "most_common_lemmas = lemma_counter_obj.most_common(5)\n",
    "for lemma in most_common_lemmas:\n",
    "    print(lemma)"
   ]
  },
  {
   "cell_type": "markdown",
   "metadata": {},
   "source": [
    "#### Question 5 \n",
    "Define the following methods:\n",
    "    * `score_sentence_by_token(sentence, interesting_token)` that takes a sentence and a list of interesting token and returns the number of times that any of the interesting words appear in the sentence divided by the number of words in the sentence\n",
    "    * `score_sentence_by_lemma(sentence, interesting_lemmas)` that takes a sentence and a list of interesting lemmas and returns the number of times that any of the interesting lemmas appear in the sentence divided by the number of words in the sentence\n",
    "    \n",
    "You may find some of the code from the in class notes useful; feel free to use methods (rewrite them in this cell as well).  Test them by showing the score of the first sentence in your article using the frequent tokens and frequent lemmas identified in question 3."
   ]
  },
  {
   "cell_type": "code",
   "execution_count": 5,
   "metadata": {},
   "outputs": [],
   "source": [
    "def score_sentence_by_token(sentence, interesting_tokens): \n",
    "    \"\"\"\n",
    "    Calculates the score representing the proportion of interesting tokens found in a given sentence.\n",
    "\n",
    "    Args:\n",
    "        sentence (str): The input sentence to score.\n",
    "        interesting_tokens (list): A list of interesting tokens to search for in the sentence.\n",
    "\n",
    "    Returns:\n",
    "        float or str: The score, which is the number of interesting lemmas found divided by the number of words in the sentence. If no interesting lemmas are found, the string 'No lemmas found' is returned.\n",
    "\n",
    "    Raises:\n",
    "        None\n",
    "\n",
    "    \"\"\"\n",
    "    sentence_length = len(sentence.split())\n",
    "    interesting_token = [token[0] for token in interesting_tokens]\n",
    "    sentence = re.sub(r'[^\\w\\s]', '', sentence)\n",
    "    counter = 0\n",
    "    for _ in sentence.lower().split():\n",
    "        if _ in interesting_token:\n",
    "            counter+=1\n",
    "    if counter>0:\n",
    "        score = counter/sentence_length\n",
    "        return score\n",
    "    else:\n",
    "        return 'No tokens found'"
   ]
  },
  {
   "cell_type": "code",
   "execution_count": 6,
   "metadata": {},
   "outputs": [],
   "source": [
    "# testing the first sentence of the article\n",
    "sentence= '''When we think about the onward march of automotive technology, headlights aren’t usually the first thing that come to mind'''"
   ]
  },
  {
   "cell_type": "code",
   "execution_count": 7,
   "metadata": {},
   "outputs": [
    {
     "data": {
      "text/plain": [
       "0.1"
      ]
     },
     "execution_count": 7,
     "metadata": {},
     "output_type": "execute_result"
    }
   ],
   "source": [
    "score_sentence_by_token(sentence.lower(),most_common_tokens)"
   ]
  },
  {
   "cell_type": "code",
   "execution_count": 8,
   "metadata": {},
   "outputs": [],
   "source": [
    "def score_sentence_by_lemma(sentence, interesting_lemmas):\n",
    "    \"\"\"\n",
    "    Calculates the score representing the proportion of interesting lemmas found in a given sentence.\n",
    "\n",
    "    Args:\n",
    "        sentence (str): The input sentence to score.\n",
    "        interesting_lemmas (list): A list of interesting lemmas to search for in the sentence.\n",
    "\n",
    "    Returns:\n",
    "        float or str: The score, which is the number of interesting lemmas found divided by the number of words in the sentence. If no interesting lemmas are found, the string 'No lemmas found' is returned.\n",
    "\n",
    "    Raises:\n",
    "        None\n",
    "\n",
    "    \"\"\"\n",
    "    sentence_length = len(sentence.split())\n",
    "    interesting_lemmas = [lemma[0] for lemma in interesting_lemmas]\n",
    "    sentence = re.sub(r'[^\\w\\s]', '', sentence)\n",
    "    counter = 0\n",
    "    for _ in sentence.lower().strip().split():\n",
    "        if _ in interesting_lemmas:\n",
    "            counter+=1\n",
    "    if counter>0:\n",
    "        score = counter/sentence_length\n",
    "        return score\n",
    "    else:\n",
    "        return 'No lemmas found'\n",
    "    "
   ]
  },
  {
   "cell_type": "code",
   "execution_count": 9,
   "metadata": {},
   "outputs": [
    {
     "data": {
      "text/plain": [
       "0.05"
      ]
     },
     "execution_count": 9,
     "metadata": {},
     "output_type": "execute_result"
    }
   ],
   "source": [
    "score_sentence_by_lemma(sentence, most_common_lemmas)"
   ]
  },
  {
   "cell_type": "markdown",
   "metadata": {},
   "source": [
    "#### Question 6\n",
    "Make a list containing the scores (using tokens) of every sentence in the article, and plot a histogram with appropriate titles and axis labels of the scores. From your histogram, what seems to be the most common range of scores (put the answer in a comment after your code)?"
   ]
  },
  {
   "cell_type": "code",
   "execution_count": 10,
   "metadata": {},
   "outputs": [
    {
     "data": {
      "image/png": "[encoded data removed]",
      "text/plain": [
       "<Figure size 640x480 with 1 Axes>"
      ]
     },
     "metadata": {},
     "output_type": "display_data"
    }
   ],
   "source": [
    "# using indexing and slicing to exclude the initial and last line of text \n",
    "# from the article\n",
    "\n",
    "start_string = \"2021\"\n",
    "start_index = text_without_empty_lines.index(start_string) + len(start_string)\n",
    "text_to_process = text_without_empty_lines[start_index:]\n",
    "doc = nlp(text_to_process)\n",
    "sentences = sentences = [sent.text.strip() for sent in doc.sents if sent.text.strip()]\n",
    "sentences = sentences[:54]\n",
    "tokens_hist_values = [score_sentence_by_token(sentence, most_common_tokens) for sentence in sentences if score_sentence_by_token(sentence, most_common_tokens) != 'No tokens found']\n",
    "plt.hist(tokens_hist_values, bins=10, range=(0, 1),edgecolor='black', linewidth=1.2,alpha=0.7)\n",
    "plt.xticks(np.arange(0, 1.1, 0.1))\n",
    "plt.xlabel('Score')\n",
    "plt.ylabel('Frequency')\n",
    "plt.title('Distribution of Token Scores')\n",
    "\n",
    "plt.show();"
   ]
  },
  {
   "cell_type": "markdown",
   "metadata": {
    "tags": []
   },
   "source": [
    "#### From the histogram above it seems that the most common range of scores falls between 0 and 0.1 ."
   ]
  },
  {
   "cell_type": "markdown",
   "metadata": {},
   "source": [
    "#### Question 7\n",
    "Make a list containing the scores (using lemmas) of every sentence in the article, and plot a histogram with appropriate titles and axis labels of the scores.  From your histogram, what seems to be the most common range of scores (put the answer in a comment after your code)?"
   ]
  },
  {
   "cell_type": "code",
   "execution_count": 11,
   "metadata": {},
   "outputs": [
    {
     "data": {
      "image/png": "[encoded data removed]",
      "text/plain": [
       "<Figure size 640x480 with 1 Axes>"
      ]
     },
     "metadata": {},
     "output_type": "display_data"
    }
   ],
   "source": [
    "start_string = \"2021\"\n",
    "start_index = text_without_empty_lines.index(start_string) + len(start_string)\n",
    "text_to_process = text_without_empty_lines[start_index:]\n",
    "doc = nlp(text_to_process)\n",
    "sentences = sentences = [sent.text.strip() for sent in doc.sents if sent.text.strip()]\n",
    "sentences = sentences[:54]\n",
    "lemmas_hist_values = [score_sentence_by_lemma(sentence, most_common_lemmas) for sentence in sentences if score_sentence_by_lemma(sentence, most_common_lemmas) != 'No lemmas found']\n",
    "plt.hist(lemmas_hist_values, bins=10, range=(0, 1),edgecolor='black', linewidth=1.2,alpha=0.7)\n",
    "plt.xticks(np.arange(0, 1.1, 0.1))\n",
    "plt.xlabel('Score')\n",
    "plt.ylabel('Frequency')\n",
    "plt.title('Distribution Lexems of Scores')\n",
    "\n",
    "plt.show();"
   ]
  },
  {
   "cell_type": "markdown",
   "metadata": {},
   "source": [
    "#### From the histogram above it seems that the most common range of scores falls between 0 and 0.1 ."
   ]
  },
  {
   "cell_type": "markdown",
   "metadata": {},
   "source": [
    "#### Question 8\n",
    "Which tokens and lexems would be ommitted from the lists generated in questions 3 and 4 if we only wanted to consider nouns as interesting words?  How might we change the code to only consider nouns? Put your answer in this Markdown cell (you can edit it by double clicking it)."
   ]
  },
  {
   "cell_type": "code",
   "execution_count": 12,
   "metadata": {},
   "outputs": [],
   "source": [
    "def is_noun_list(word_list):\n",
    "    \"\"\"\n",
    "    Checks if a list of words consists only of nouns.\n",
    "\n",
    "    Parameters:\n",
    "    - word_list (list): A list of words to be checked.\n",
    "\n",
    "    Prints a message for each word in the list that is not classified as a noun,\n",
    "    indicating the word, its part-of-speech (POS) tag, and that it would be excluded\n",
    "    from the original list.\n",
    "\n",
    "    Returns:\n",
    "    None\n",
    "    \"\"\"\n",
    "    for word in word_list:\n",
    "        doc = nlp(word)\n",
    "        for token in doc:\n",
    "            if token.pos_ != \"NOUN\":\n",
    "                print(str(token) +\" is a \"+str(token.pos_).lower()\\\n",
    "                      +\" and it would be excluded from the original list\")\n",
    "   \n",
    "        "
   ]
  },
  {
   "cell_type": "code",
   "execution_count": 13,
   "metadata": {},
   "outputs": [
    {
     "name": "stdout",
     "output_type": "stream",
     "text": [
      "led is a verb and it would be excluded from the original list\n"
     ]
    }
   ],
   "source": [
    "# shows what lexems are not included based on question 8 directions\n",
    "is_noun_list([x[0] for x in most_common_lemmas])"
   ]
  },
  {
   "cell_type": "code",
   "execution_count": 14,
   "metadata": {},
   "outputs": [
    {
     "name": "stdout",
     "output_type": "stream",
     "text": [
      "led is a verb and it would be excluded from the original list\n"
     ]
    }
   ],
   "source": [
    "# shows what tokens are not included based on question 8 directions\n",
    "is_noun_list([x[0] for x in most_common_tokens])\n"
   ]
  },
  {
   "cell_type": "code",
   "execution_count": 15,
   "metadata": {},
   "outputs": [
    {
     "name": "stdout",
     "output_type": "stream",
     "text": [
      "Do the two functions exclude the same lexems and tokens? True\n"
     ]
    }
   ],
   "source": [
    "\n",
    "with redirect_stdout(io.StringIO()):\n",
    "    result_a = is_noun_list([x[0] for x in most_common_lemmas])\n",
    "    result_b = is_noun_list([x[0] for x in most_common_tokens])\n",
    "\n",
    "functions_equal = result_a == result_b\n",
    "\n",
    "print(\"Do the two functions exclude the same lexems and tokens?\", functions_equal)"
   ]
  },
  {
   "cell_type": "code",
   "execution_count": 16,
   "metadata": {},
   "outputs": [
    {
     "name": "stdout",
     "output_type": "stream",
     "text": [
      "[NbConvertApp] Converting notebook web-scraping.ipynb to html\n",
      "[NbConvertApp] Writing 741401 bytes to web-scraping.html\n"
     ]
    }
   ],
   "source": [
    "!jupyter nbconvert --to html web-scraping.ipynb"
   ]
  },
  {
   "cell_type": "code",
   "execution_count": null,
   "metadata": {},
   "outputs": [],
   "source": []
  }
 ],
 "metadata": {
  "kernelspec": {
   "display_name": "Python 3 (ipykernel)",
   "language": "python",
   "name": "python3"
  },
  "language_info": {
   "codemirror_mode": {
    "name": "ipython",
    "version": 3
   },
   "file_extension": ".py",
   "mimetype": "text/x-python",
   "name": "python",
   "nbconvert_exporter": "python",
   "pygments_lexer": "ipython3",
   "version": "3.8.13"
  }
 },
 "nbformat": 4,
 "nbformat_minor": 4
}
